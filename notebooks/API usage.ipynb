{
 "cells": [
  {
   "cell_type": "code",
   "execution_count": 11,
   "metadata": {},
   "outputs": [
    {
     "name": "stdout",
     "output_type": "stream",
     "text": [
      "API call success\n"
     ]
    },
    {
     "data": {
      "text/plain": [
       "(200, 29.876913412495636, {'fare': 29.876913412495636})"
      ]
     },
     "execution_count": 11,
     "metadata": {},
     "output_type": "execute_result"
    }
   ],
   "source": [
    "import requests\n",
    "\n",
    "# fill the parameters for the prediction\n",
    "params = dict(\n",
    "  pickup_datetime='2012-10-06 12:10:20',\n",
    "  pickup_longitude=40.7614327,\n",
    "  pickup_latitude=-73.9798156,\n",
    "  dropoff_longitude=40.6413111,\n",
    "  dropoff_latitude=-73.9797156,\n",
    "  passenger_count=1\n",
    ")\n",
    "\n",
    "params = dict(\n",
    "  pickup_datetime='2012-10-06 12:10:20',\n",
    "  pickup_longitude=40.7614327,\n",
    "  pickup_latitude=-73.9798156,\n",
    "  dropoff_longitude=40.6331166,\n",
    "  dropoff_latitude=-73.8874078,    \n",
    "  passenger_count=2\n",
    ")\n",
    "\n",
    "# URL\n",
    "taxifare_api_url = \"http://127.0.0.1:8000/predict\"\n",
    "\n",
    "# retrieve the response\n",
    "response = requests.get(\n",
    "    taxifare_api_url,\n",
    "    params=params\n",
    ")\n",
    "\n",
    "if response.status_code == 200:\n",
    "    print(\"API call success\")\n",
    "else:\n",
    "    print(\"API call error\")\n",
    "\n",
    "response.status_code, response.json().get(\"fare\", \"no prediction\"), response.json()\n"
   ]
  },
  {
   "cell_type": "code",
   "execution_count": 18,
   "metadata": {},
   "outputs": [
    {
     "name": "stdout",
     "output_type": "stream",
     "text": [
      "{'fare': 12.761546453189208}\n"
     ]
    }
   ],
   "source": [
    "taxifare_api_url = \"http://127.0.0.1:8000/predict?pickup_datetime=2013-07-06 17:18:00&pickup_longitude=-73.950655&pickup_latitude=40.783282&dropoff_longitude=-73.984365&dropoff_latitude=40.769802&passenger_count=1\"\n",
    "\n",
    "response = requests.get(\n",
    "    taxifare_api_url\n",
    ").json()\n",
    "\n",
    "print(response)\n"
   ]
  },
  {
   "cell_type": "code",
   "execution_count": null,
   "metadata": {},
   "outputs": [],
   "source": []
  }
 ],
 "metadata": {
  "kernelspec": {
   "display_name": "Python 3 (ipykernel)",
   "language": "python",
   "name": "python3"
  },
  "language_info": {
   "codemirror_mode": {
    "name": "ipython",
    "version": 3
   },
   "file_extension": ".py",
   "mimetype": "text/x-python",
   "name": "python",
   "nbconvert_exporter": "python",
   "pygments_lexer": "ipython3",
   "version": "3.8.12"
  },
  "toc": {
   "base_numbering": 1,
   "nav_menu": {},
   "number_sections": true,
   "sideBar": true,
   "skip_h1_title": false,
   "title_cell": "Table of Contents",
   "title_sidebar": "Contents",
   "toc_cell": false,
   "toc_position": {},
   "toc_section_display": true,
   "toc_window_display": false
  }
 },
 "nbformat": 4,
 "nbformat_minor": 4
}
